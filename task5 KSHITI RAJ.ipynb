{
 "cells": [
  {
   "cell_type": "markdown",
   "id": "94de4725",
   "metadata": {},
   "source": [
    "## Task 5 kshiti raj"
   ]
  },
  {
   "cell_type": "code",
   "execution_count": null,
   "id": "429633f5",
   "metadata": {},
   "outputs": [],
   "source": [
    "# DETECT FLOATING POINT NUMBERS:\n",
    "\n",
    "from re import match, compile\n",
    "\n",
    "pattern = compile('^[-+]?[0-9]*\\.[0-9]+$')\n",
    "for i in range(int(input())):\n",
    "    print(bool(pattern.match(input())))"
   ]
  },
  {
   "cell_type": "code",
   "execution_count": null,
   "id": "2177e5c0",
   "metadata": {},
   "outputs": [],
   "source": [
    "# RE.SPLIT()\n",
    "\n",
    "regex_pattern = r\"\"\t# Do not delete 'r'.\n",
    "import re\n",
    "\n",
    "regex_pattern = r'[.,]+'\n",
    "\n",
    "\n",
    "import re\n",
    "print(\"\\n\".join(re.split(regex_pattern, input())))"
   ]
  },
  {
   "cell_type": "code",
   "execution_count": null,
   "id": "749f5ede",
   "metadata": {},
   "outputs": [],
   "source": [
    "# GROUP(),GROUPS(),GROUPDICT():\n",
    "\n",
    "import re\n",
    "m = re.search(r'([a-zA-Z0-9])\\1', input().strip())\n",
    "print(m.group(1) if m else -1)\n"
   ]
  },
  {
   "cell_type": "code",
   "execution_count": null,
   "id": "97b84fe0",
   "metadata": {},
   "outputs": [],
   "source": [
    "# REGEX FINDALL(),FINDITER()\n",
    "\n",
    "import re\n",
    "\n",
    "m = re.findall(r\"(?<=[^aeiou])([aeiou]{2,})(?=[^aeiou])\", input(), re.IGNORECASE)\n",
    "\n",
    "if m:\n",
    "    print(*m, sep=\"\\n\")\n",
    "else:\n",
    "    print(-1)"
   ]
  },
  {
   "cell_type": "code",
   "execution_count": null,
   "id": "c7c1681a",
   "metadata": {},
   "outputs": [],
   "source": [
    "# RE.START(),END()\n",
    "\n",
    "import re\n",
    "S = input()\n",
    "k = input()\n",
    "pattern = re.compile(k)\n",
    "m = pattern.search(S)\n",
    "\n",
    "if not m:\n",
    "        print((-1,-1))  \n",
    "while m:\n",
    "    print((m.start(),m.end()-1))\n",
    "    m=pattern.search(S,m.start()+1)"
   ]
  },
  {
   "cell_type": "code",
   "execution_count": null,
   "id": "55eb04af",
   "metadata": {},
   "outputs": [],
   "source": [
    "# REGEX SUBSTITUTION:\n",
    "\n",
    "import re \n",
    "\n",
    "for i in range(int(input())):\n",
    "    str_ = input()\n",
    "    str_ = re.sub(r\"(?<= )(&&)(?= )\", \"and\", str_)\n",
    "    print(re.sub(r\"(?<= )(\\|\\|)(?= )\", \"or\", str_))"
   ]
  },
  {
   "cell_type": "code",
   "execution_count": null,
   "id": "93d4bc4f",
   "metadata": {},
   "outputs": [],
   "source": [
    "# VALIDATING ROMAN NUMERAL:\n",
    "\n",
    "regex_pattern = r\"\"\t# Do not delete 'r'.\n",
    "import re\n",
    "\n",
    "regex_pattern = r'M{0,3}(C[MD]|D?C{0,3})(X[CL]|L?X{0,3})(I[VX]|V?I{0,3})$'\n",
    "\n",
    "\n",
    "import re\n",
    "print(str(bool(re.match(regex_pattern, input()))))"
   ]
  },
  {
   "cell_type": "code",
   "execution_count": null,
   "id": "0b7169ff",
   "metadata": {},
   "outputs": [],
   "source": [
    "# VALIDATING PHONE NUMBERS:\n",
    "\n",
    "import re\n",
    "\n",
    "[print('YES' if re.match(r'[789]\\d{9}$', input()) else 'NO') for _ in range(int(input()))]"
   ]
  },
  {
   "cell_type": "code",
   "execution_count": null,
   "id": "96a7d8fa",
   "metadata": {},
   "outputs": [],
   "source": [
    "# VALIDATING AND PARSING EMAIL ADDRESSES:\n",
    "\n",
    "import re\n",
    "\n",
    "pattern = r'^<[A-Za-z](\\w|-|\\.|_)+@[A-Za-z]+\\.[A-Za-z]{1,3}>$'\n",
    "for _ in range(int(input())):\n",
    "    name, email = input().split(' ')\n",
    "    if re.match(pattern, email):\n",
    "        print(name, email)"
   ]
  },
  {
   "cell_type": "code",
   "execution_count": null,
   "id": "411f78f8",
   "metadata": {},
   "outputs": [],
   "source": [
    "#  HEX COLOR CODE:\n",
    "\n",
    "import re\n",
    "for i in range (int(input())):\n",
    "    s=input()\n",
    "    c=re.findall(r\"#[0-9a-fA-F]{6}|#[0-9a-fA-F]{3}\",s)\n",
    "    if(len(c)!=0 and s[0]!='#'):\n",
    "        for i in c:\n",
    "            print(i) "
   ]
  },
  {
   "cell_type": "code",
   "execution_count": null,
   "id": "b7fc5a4c",
   "metadata": {},
   "outputs": [],
   "source": [
    "# HTML PARSER 1:\n",
    "\n",
    "from html.parser import HTMLParser\n",
    "\n",
    "\n",
    "class MyHTMLParser(HTMLParser):\n",
    "    def handle_starttag(self, tag, attrs):\n",
    "        print ('Start :', tag)\n",
    "        for ele in attrs:\n",
    "            print ('->', ele[0], '>', ele[1])\n",
    "\n",
    "    def handle_endtag(self, tag):\n",
    "        print ('End   :', tag)\n",
    "\n",
    "    def handle_startendtag(self, tag, attrs):\n",
    "        print ('Empty :', tag)\n",
    "        for ele in attrs:\n",
    "            print ('->', ele[0], '>', ele[1])\n",
    "\n",
    "\n",
    "parser = MyHTMLParser()\n",
    "for _ in range(int(input())):\n",
    "    parser.feed(input())"
   ]
  },
  {
   "cell_type": "code",
   "execution_count": null,
   "id": "f1dd535a",
   "metadata": {},
   "outputs": [],
   "source": [
    "# HTML PARSER 2:\n",
    "\n",
    "from html.parser import HTMLParser\n",
    "\n",
    "class MyHTMLParser(HTMLParser):\n",
    "    def handle_comment(self, comment):\n",
    "        print('>>> Multi-line Comment') if (comment.find('\\n') != -1) else print('>>> Single-line Comment')\n",
    "        print(comment)\n",
    "        \n",
    "    def handle_data(self, data):\n",
    "        if data is '\\n':\n",
    "            return\n",
    "        print('>>> Data')\n",
    "        print(data)\n",
    "        \n",
    "  \n",
    "html = \"\"       \n",
    "for i in range(int(input())):\n",
    "    html += input().rstrip()\n",
    "    html += '\\n'\n",
    "    \n",
    "parser = MyHTMLParser()\n",
    "parser.feed(html)\n",
    "parser.close()"
   ]
  },
  {
   "cell_type": "code",
   "execution_count": null,
   "id": "4ddc1b9d",
   "metadata": {},
   "outputs": [],
   "source": [
    "# DETECT HTML TAGS,ATTRIBUTES,ATTRIBUTES VALUES:\n",
    "\n",
    "from html.parser import HTMLParser\n",
    "\n",
    "\n",
    "class MyHTMLParser(HTMLParser):\n",
    "    def handle_starttag(self, tag, attrs):\n",
    "        print(tag)\n",
    "        [print('-> {} > {}'.format(*attr)) for attr in attrs]\n",
    "\n",
    "\n",
    "html = '\\n'.join([input() for _ in range(int(input()))])\n",
    "parser = MyHTMLParser()\n",
    "parser.feed(html)\n",
    "parser.close()"
   ]
  },
  {
   "cell_type": "code",
   "execution_count": null,
   "id": "558d5245",
   "metadata": {},
   "outputs": [],
   "source": [
    "# VALIDATING UID:\n",
    "\n",
    "import re\n",
    "N = int(input())\n",
    "\n",
    "ATLEAST_2_UPPER = r'(?=(?:.*[A-Z]+){2,})'\n",
    "ATLEAST_3_DIGITS = r'(?=(?:.*\\d){3,})'\n",
    "TEN_CHARAC = r'[\\w]{10}'\n",
    "NO_CHARAC_REPEAT = r'(?!.*(.).*\\1)' \n",
    "\n",
    "filters = [ATLEAST_2_UPPER,ATLEAST_3_DIGITS,TEN_CHARAC,NO_CHARAC_REPEAT]\n",
    "\n",
    "for i in range(0, N):\n",
    "    uid = input()\n",
    "    print('Valid') if all([re.match(f, uid) for f in filters]) else print('Invalid')\n"
   ]
  },
  {
   "cell_type": "code",
   "execution_count": null,
   "id": "57b3db9d",
   "metadata": {},
   "outputs": [],
   "source": [
    "# VALIDATING CREDIT CARD NUMBER:\n",
    "\n",
    "import re\n",
    "\n",
    "for i in range(int(input())):\n",
    "    if re.match(r'(?=[4-6][\\d]{3}(?:-?[\\d]{4}){3}$)(?!.*(\\d)(?:-?\\1){3}).*', input()):\n",
    "        print('Valid')\n",
    "    else:\n",
    "        print('Invalid')"
   ]
  }
 ],
 "metadata": {
  "kernelspec": {
   "display_name": "Python 3 (ipykernel)",
   "language": "python",
   "name": "python3"
  },
  "language_info": {
   "codemirror_mode": {
    "name": "ipython",
    "version": 3
   },
   "file_extension": ".py",
   "mimetype": "text/x-python",
   "name": "python",
   "nbconvert_exporter": "python",
   "pygments_lexer": "ipython3",
   "version": "3.11.2"
  }
 },
 "nbformat": 4,
 "nbformat_minor": 5
}
